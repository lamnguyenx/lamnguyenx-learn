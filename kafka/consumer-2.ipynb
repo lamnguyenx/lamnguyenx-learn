{
 "cells": [
  {
   "cell_type": "code",
   "execution_count": null,
   "metadata": {},
   "outputs": [],
   "source": [
    "from pprint import pprint\n",
    "from aiokafka import AIOKafkaConsumer"
   ]
  },
  {
   "cell_type": "code",
   "execution_count": null,
   "metadata": {},
   "outputs": [],
   "source": [
    "AKC = AIOKafkaConsumer(\n",
    "    'random_thingies',\n",
    "    bootstrap_servers='localhost:9092',\n",
    "    group_id='thingies_lover',\n",
    ")\n",
    "await AKC.start()\n",
    "pprint(f'started consumer: {AKC}')\n",
    "pprint(f'assigned partition: {AKC.assignment()}')"
   ]
  },
  {
   "cell_type": "code",
   "execution_count": null,
   "metadata": {},
   "outputs": [],
   "source": [
    "async for msg in AKC:\n",
    "    pprint(f'msg: {msg}')"
   ]
  }
 ],
 "metadata": {
  "kernelspec": {
   "display_name": "base",
   "language": "python",
   "name": "python3"
  },
  "language_info": {
   "codemirror_mode": {
    "name": "ipython",
    "version": 3
   },
   "file_extension": ".py",
   "mimetype": "text/x-python",
   "name": "python",
   "nbconvert_exporter": "python",
   "pygments_lexer": "ipython3",
   "version": "3.1.0"
  }
 },
 "nbformat": 4,
 "nbformat_minor": 2
}
