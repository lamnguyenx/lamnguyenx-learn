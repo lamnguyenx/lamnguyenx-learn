{
 "cells": [
  {
   "cell_type": "code",
   "execution_count": null,
   "metadata": {},
   "outputs": [],
   "source": [
    "from pprint import pprint\n",
    "\n",
    "from aiokafka import AIOKafkaProducer\n",
    "import asyncio\n",
    "\n",
    "async def send_one():\n",
    "    producer = AIOKafkaProducer(\n",
    "        bootstrap_servers='localhost:9092')\n",
    "    # Get cluster layout and initial topic/partition leadership information\n",
    "    await producer.start()\n",
    "    try:\n",
    "        # Produce message\n",
    "        Ret = await producer.send_and_wait(\"my_topic\", b\"Super message\")\n",
    "        pprint(Ret)\n",
    "    finally:\n",
    "        # Wait for all pending messages to be delivered or expire.\n",
    "        await producer.stop()"
   ]
  },
  {
   "cell_type": "code",
   "execution_count": null,
   "metadata": {},
   "outputs": [],
   "source": [
    "await send_one()"
   ]
  }
 ],
 "metadata": {
  "kernelspec": {
   "display_name": "Python 3",
   "language": "python",
   "name": "python3"
  },
  "language_info": {
   "codemirror_mode": {
    "name": "ipython",
    "version": 3
   },
   "file_extension": ".py",
   "mimetype": "text/x-python",
   "name": "python",
   "nbconvert_exporter": "python",
   "pygments_lexer": "ipython3",
   "version": "3.10.13"
  }
 },
 "nbformat": 4,
 "nbformat_minor": 2
}
