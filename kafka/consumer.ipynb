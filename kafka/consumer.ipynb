{
 "cells": [
  {
   "cell_type": "code",
   "execution_count": null,
   "metadata": {},
   "outputs": [],
   "source": [
    "from aiokafka import AIOKafkaConsumer\n",
    "import asyncio\n",
    "\n",
    "async def consume():\n",
    "    consumer = AIOKafkaConsumer(\n",
    "        'my_topic', 'my_other_topic',\n",
    "        bootstrap_servers='localhost:9092',\n",
    "        group_id=\"my-group\")\n",
    "    # Get cluster layout and join group `my-group`\n",
    "    await consumer.start()\n",
    "    try:\n",
    "        # Consume messages\n",
    "        async for msg in consumer:\n",
    "            print(\"consumed: \", msg.topic, msg.partition, msg.offset,\n",
    "                  msg.key, msg.value, msg.timestamp)\n",
    "    finally:\n",
    "        # Will leave consumer group; perform autocommit if enabled.\n",
    "        await consumer.stop()"
   ]
  },
  {
   "cell_type": "code",
   "execution_count": null,
   "metadata": {},
   "outputs": [],
   "source": [
    "await consume()"
   ]
  }
 ],
 "metadata": {
  "kernelspec": {
   "display_name": "base",
   "language": "python",
   "name": "python3"
  },
  "language_info": {
   "codemirror_mode": {
    "name": "ipython",
    "version": 3
   },
   "file_extension": ".py",
   "mimetype": "text/x-python",
   "name": "python",
   "nbconvert_exporter": "python",
   "pygments_lexer": "ipython3",
   "version": "3.10.13"
  }
 },
 "nbformat": 4,
 "nbformat_minor": 2
}
